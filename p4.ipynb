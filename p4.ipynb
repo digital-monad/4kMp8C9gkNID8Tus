{
 "cells": [
  {
   "cell_type": "markdown",
   "id": "38e787be-0de1-4d86-b264-206c5b8b6649",
   "metadata": {},
   "source": [
    "# Project 4\n",
    "\n",
    "\n",
    "Predict given an image of a book whether the page visible is being flipped or not."
   ]
  },
  {
   "cell_type": "code",
   "execution_count": 6,
   "id": "c7a61746-4a65-4a3f-92a3-3afd681bfbb9",
   "metadata": {},
   "outputs": [],
   "source": [
    "import torch\n",
    "import torch.nn as nn\n",
    "import torch.optim as optim\n",
    "from torchvision import datasets, transforms, utils\n",
    "from torch.utils.data import DataLoader, Subset\n",
    "from sklearn.model_selection import train_test_split\n",
    "from sklearn.metrics import classification_report, confusion_matrix\n",
    "import matplotlib.pyplot as plt\n",
    "import torch.nn.functional as F"
   ]
  },
  {
   "cell_type": "markdown",
   "id": "b1ae41b8-25ed-4f01-9857-a06a1f3df2cf",
   "metadata": {},
   "source": [
    "## Data Transformation\n",
    "\n",
    "We resize the images to be square (200x200) and convert them to a tensor object, normalising the values to [0,1]."
   ]
  },
  {
   "cell_type": "code",
   "execution_count": 7,
   "id": "2bc575f6-2084-4b28-92e6-b581a5db1ab6",
   "metadata": {},
   "outputs": [],
   "source": [
    "data_transform = transforms.Compose([\n",
    "    # transforms.RandomResizedCrop(500), make 200x200 # normalise values to [0,1], rescaling\n",
    "    transforms.Resize((200, 200)),\n",
    "    transforms.ToTensor()\n",
    "])"
   ]
  },
  {
   "cell_type": "markdown",
   "id": "047de884-e030-49e8-afa2-e783cd7150b8",
   "metadata": {},
   "source": [
    "## Data Loading\n",
    "\n",
    "Load the data in and set the batch size to 32."
   ]
  },
  {
   "cell_type": "code",
   "execution_count": 8,
   "id": "340c8ef4-89c1-4b2a-9e10-3cd14347f38c",
   "metadata": {},
   "outputs": [],
   "source": [
    "data_dir = \"../data/images/\"\n",
    "train_dataset = datasets.ImageFolder(root=data_dir + \"training\", transform=data_transform) # make val set\n",
    "test_dataset = datasets.ImageFolder(root=data_dir + \"testing\", transform=data_transform)\n",
    "trainloader = DataLoader(train_dataset, batch_size=32, shuffle=True)\n",
    "testloader = DataLoader(test_dataset, batch_size=32, shuffle=True)\n",
    "\n",
    "device = torch.device(\"cuda\")"
   ]
  },
  {
   "cell_type": "markdown",
   "id": "7383a675-36ad-4640-af2b-fe327e43c0ab",
   "metadata": {},
   "source": [
    "## Train Function\n",
    "\n",
    "Define a function to train a given model with a loss function and optimiser. Iterates through all the batches for 1 \"epoch\" of weight updates."
   ]
  },
  {
   "cell_type": "code",
   "execution_count": 9,
   "id": "4077ae6e-7dbe-4754-bc5d-560d70ab6140",
   "metadata": {},
   "outputs": [],
   "source": [
    "def train(model, loss_fn, dataloader, optimizer):\n",
    "    epoch_loss = 0\n",
    "    model.train()\n",
    "    for batch, (X, y) in enumerate(dataloader):\n",
    "        X = X.to(device)\n",
    "        y = y.to(device)\n",
    "        y = y.reshape(-1,1)\n",
    "        preds = model(X)\n",
    "        loss = loss_fn(preds, y.float())\n",
    "        # Backprop\n",
    "        loss.backward()\n",
    "        optimizer.step()\n",
    "        optimizer.zero_grad()\n",
    "        epoch_loss += loss.item()\n",
    "        if batch % 10 == 0:\n",
    "            print(loss.item())\n",
    "    return epoch_loss"
   ]
  },
  {
   "cell_type": "markdown",
   "id": "bcaaa6b6-9ee9-433e-982d-3456d1fa470e",
   "metadata": {},
   "source": [
    "## Model\n",
    "\n",
    "The model is composed of one convolutional layer with $5 \\times 5$ kernel size and a fully connected layer producing a single logit output."
   ]
  },
  {
   "cell_type": "code",
   "execution_count": 10,
   "id": "f2666ad3-9626-45d7-b6ea-e1f2d125f9b0",
   "metadata": {},
   "outputs": [
    {
     "data": {
      "text/plain": [
       "Model(\n",
       "  (conv_layer): Conv2d(3, 6, kernel_size=(5, 5), stride=(1, 1))\n",
       "  (fc_layer): Linear(in_features=230496, out_features=1, bias=True)\n",
       ")"
      ]
     },
     "execution_count": 10,
     "metadata": {},
     "output_type": "execute_result"
    }
   ],
   "source": [
    "class Model(nn.Module):\n",
    "    def __init__(self):\n",
    "        super().__init__()\n",
    "        self.conv_layer = nn.Conv2d(3, 6, 5)\n",
    "        self.fc_layer = nn.Linear(6*196*196, 1)\n",
    "\n",
    "    def forward(self, x):\n",
    "        x = self.conv_layer(x)\n",
    "        x = torch.flatten(x,1)\n",
    "        x = self.fc_layer(x)\n",
    "        return x\n",
    "\n",
    "model = Model()\n",
    "model.to(device)"
   ]
  },
  {
   "cell_type": "markdown",
   "id": "a490adf1-c7bc-4918-8527-a9bcdf3ac7c7",
   "metadata": {},
   "source": [
    "## Hyperparameters\n",
    "\n",
    "The loss function is binary cross entropy with logits, giving a loss for a prediction over a binary target after applying a sigmoid transformation $\\frac{1}{1 + e^{-x}}$ to the output."
   ]
  },
  {
   "cell_type": "code",
   "execution_count": 11,
   "id": "f9591759-086c-4df1-bf42-307c7ce0e1f4",
   "metadata": {},
   "outputs": [],
   "source": [
    "loss_fn = nn.BCEWithLogitsLoss()\n",
    "optimizer = torch.optim.Adam(model.parameters(), lr = 0.05)"
   ]
  },
  {
   "cell_type": "code",
   "execution_count": 12,
   "id": "8061ce38-9d2d-474e-ab32-cf390a2db8ef",
   "metadata": {},
   "outputs": [
    {
     "name": "stdout",
     "output_type": "stream",
     "text": [
      "0.710604727268219\n",
      "789.7356567382812\n",
      "1899.2247314453125\n",
      "973.585693359375\n",
      "819.7395629882812\n",
      "282.3038330078125\n",
      "731.358154296875\n",
      "90.19795227050781\n",
      "801.0152587890625\n",
      "531.70654296875\n",
      "442.9598388671875\n",
      "205.40469360351562\n",
      "35.26752471923828\n",
      "52.05826187133789\n",
      "17.4382381439209\n",
      "9.333383560180664\n",
      "8.634506225585938\n",
      "1.5443077087402344\n",
      "2.985319137573242\n",
      "1.7097587585449219\n",
      "0.3859242796897888\n",
      "1.6553846597671509\n",
      "0.46450740098953247\n",
      "0.0014388062991201878\n",
      "Finished Training\n"
     ]
    },
    {
     "data": {
      "image/png": "[encoded data removed]",
      "text/plain": [
       "<Figure size 640x480 with 1 Axes>"
      ]
     },
     "metadata": {},
     "output_type": "display_data"
    }
   ],
   "source": [
    "losses = []\n",
    "for epoch in range(3):\n",
    "    losses.append(train(model, loss_fn, trainloader, optimizer))\n",
    "print(\"Finished Training\")\n",
    "plt.plot(losses)\n",
    "plt.title(\"Training Loss Curve\")\n",
    "plt.xlabel(\"Epochs\")\n",
    "plt.ylabel(\"Loss\")\n",
    "plt.show()"
   ]
  },
  {
   "cell_type": "code",
   "execution_count": 13,
   "id": "1bc5d4ee-ebe5-4065-8321-81cb648ec5f1",
   "metadata": {},
   "outputs": [],
   "source": [
    "def test(model, dataloader, loss_fn):\n",
    "    model.eval()\n",
    "    all_preds = []\n",
    "    all_labels = []\n",
    "    with torch.no_grad():\n",
    "        for X, y in dataloader:\n",
    "            X = X.to(device)\n",
    "            y = y.to(device)\n",
    "            preds = model(X)\n",
    "            all_preds.extend(preds.cpu())\n",
    "            all_labels.extend(y.cpu())\n",
    "    return all_preds, all_labels"
   ]
  },
  {
   "cell_type": "code",
   "execution_count": 14,
   "id": "110999af-7814-4509-8a4e-2cdba4eb1580",
   "metadata": {},
   "outputs": [],
   "source": [
    "def score_to_class(score):\n",
    "    return 1 if torch.sigmoid(score) > 0.5 else 0"
   ]
  },
  {
   "cell_type": "code",
   "execution_count": 15,
   "id": "8fda3b25-158d-4611-9b5d-cb50c50efe21",
   "metadata": {},
   "outputs": [
    {
     "name": "stdout",
     "output_type": "stream",
     "text": [
      "Train Performance\n",
      "              precision    recall  f1-score   support\n",
      "\n",
      "           0       0.91      0.96      0.93      1162\n",
      "           1       0.96      0.90      0.93      1230\n",
      "\n",
      "    accuracy                           0.93      2392\n",
      "   macro avg       0.93      0.93      0.93      2392\n",
      "weighted avg       0.93      0.93      0.93      2392\n",
      "\n"
     ]
    }
   ],
   "source": [
    "train_output, train_labels = test(model, trainloader, loss_fn)\n",
    "final_train_preds = [score_to_class(score) for score in train_output]\n",
    "print(\"Train Performance\")\n",
    "print(classification_report(train_labels, final_train_preds))"
   ]
  },
  {
   "cell_type": "code",
   "execution_count": 20,
   "id": "588dbbdd-d7eb-4ce4-a93e-d4665ad5ee5c",
   "metadata": {},
   "outputs": [
    {
     "name": "stdout",
     "output_type": "stream",
     "text": [
      "[[1116   46]\n",
      " [ 117 1113]]\n"
     ]
    }
   ],
   "source": [
    "print(confusion_matrix(train_labels, final_train_preds))"
   ]
  },
  {
   "cell_type": "code",
   "execution_count": 16,
   "id": "53ec7d42-6b36-47b0-8ec1-10637cf2bddb",
   "metadata": {},
   "outputs": [
    {
     "name": "stdout",
     "output_type": "stream",
     "text": [
      "Test Performance\n",
      "              precision    recall  f1-score   support\n",
      "\n",
      "           0       0.88      0.94      0.91       290\n",
      "           1       0.94      0.88      0.91       307\n",
      "\n",
      "    accuracy                           0.91       597\n",
      "   macro avg       0.91      0.91      0.91       597\n",
      "weighted avg       0.91      0.91      0.91       597\n",
      "\n"
     ]
    }
   ],
   "source": [
    "test_output, test_labels = test(model, testloader, loss_fn)\n",
    "final_test_preds = [score_to_class(score) for score in test_output]\n",
    "print(\"Test Performance\")\n",
    "print(classification_report(test_labels, final_test_preds))"
   ]
  },
  {
   "cell_type": "code",
   "execution_count": 21,
   "id": "597f3811-48ad-428f-8a4e-35496b64f145",
   "metadata": {},
   "outputs": [
    {
     "name": "stdout",
     "output_type": "stream",
     "text": [
      "[[273  17]\n",
      " [ 36 271]]\n"
     ]
    }
   ],
   "source": [
    "print(confusion_matrix(test_labels, final_test_preds))"
   ]
  },
  {
   "cell_type": "markdown",
   "id": "36cffa7e-e635-4378-9ec9-2fb298c3663a",
   "metadata": {},
   "source": [
    "# Bonus Task\n",
    "\n",
    "Predict given a sequence of images whether the sequence contains a flip or not."
   ]
  },
  {
   "cell_type": "code",
   "execution_count": 17,
   "id": "538954b1-21ec-4450-b944-704f8f365904",
   "metadata": {},
   "outputs": [],
   "source": [
    "sequenceloader = DataLoader(test_dataset, batch_size=5, shuffle=False)\n",
    "\n",
    "def predictSequence(images):\n",
    "    with torch.no_grad():\n",
    "        images = images.to(device)\n",
    "        scores = model(images)\n",
    "        preds = [score_to_class(score) for score in scores]\n",
    "        return 1 if sum(preds) > 1 else 0"
   ]
  },
  {
   "cell_type": "code",
   "execution_count": 18,
   "id": "7d27aa18-7018-460d-a56e-51b150b11d7b",
   "metadata": {},
   "outputs": [
    {
     "name": "stdout",
     "output_type": "stream",
     "text": [
      "Performance\n",
      "              precision    recall  f1-score   support\n",
      "\n",
      "           0       0.95      0.93      0.94        58\n",
      "           1       0.94      0.95      0.94        62\n",
      "\n",
      "    accuracy                           0.94       120\n",
      "   macro avg       0.94      0.94      0.94       120\n",
      "weighted avg       0.94      0.94      0.94       120\n",
      "\n"
     ]
    }
   ],
   "source": [
    "all_preds = []\n",
    "all_labels = []\n",
    "for X, y in sequenceloader:\n",
    "    all_preds.append(predictSequence(X))\n",
    "    all_labels.append(1 if sum(y) > 1 else 0)\n",
    "print(\"Performance\")\n",
    "print(classification_report(all_labels, all_preds))      "
   ]
  },
  {
   "cell_type": "markdown",
   "id": "08aeab49-e3aa-4521-b913-3e1eb8a02e4f",
   "metadata": {},
   "source": [
    "## Summary\n",
    "\n",
    "This project involved binary classification on an image dataset. The model type selected to tackle this problem was a Convolutional Neural Network (CNN) due to its ability to use spatial information and its general prevalence on such image classification tasks. We use simplest possible CNN network, a convolutional layer followed by a fully connected layer to produce a single logit of output which is fed through a logistic sigmoid function and thresholded at 0.5 to form a prediction of the class, 0 or 1. Even this simple network has a decent performance, with an accuracy of 0.93 on train and 0.91 on test (fairly balanced dataset). The train and test precisions for not flip are marginally higher than the recalls, while the precisions for flip are lower than their recalls. This may indicate a very slight preference to predict 0. The F1 scores are the same, indicating a well balanced performance."
   ]
  },
  {
   "cell_type": "code",
   "execution_count": null,
   "id": "cb7662b9-1159-4462-a6bd-c07e6d9b4ed1",
   "metadata": {},
   "outputs": [],
   "source": []
  }
 ],
 "metadata": {
  "kernelspec": {
   "display_name": "Python 3 (ipykernel)",
   "language": "python",
   "name": "python3"
  },
  "language_info": {
   "codemirror_mode": {
    "name": "ipython",
    "version": 3
   },
   "file_extension": ".py",
   "mimetype": "text/x-python",
   "name": "python",
   "nbconvert_exporter": "python",
   "pygments_lexer": "ipython3",
   "version": "3.11.9"
  }
 },
 "nbformat": 4,
 "nbformat_minor": 5
}
